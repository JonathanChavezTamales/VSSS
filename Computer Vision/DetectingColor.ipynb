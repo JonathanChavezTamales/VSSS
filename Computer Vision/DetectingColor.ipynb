{
 "cells": [
  {
   "cell_type": "code",
   "execution_count": 1,
   "metadata": {},
   "outputs": [],
   "source": [
    "import cv2\n",
    "import numpy as np\n",
    "import matplotlib.pyplot as plt\n",
    "%matplotlib inline"
   ]
  },
  {
   "cell_type": "code",
   "execution_count": 2,
   "metadata": {},
   "outputs": [],
   "source": [
    "def display(img, cmap = None):\n",
    "    fig = plt.figure(figsize = (12,10))\n",
    "    ax = fig.add_subplot(111)\n",
    "    ax.imshow(img, cmap)"
   ]
  },
  {
   "cell_type": "code",
   "execution_count": 3,
   "metadata": {},
   "outputs": [],
   "source": [
    "def to255(num, val):\n",
    "    x = (num*255)//val\n",
    "    return x"
   ]
  },
  {
   "cell_type": "code",
   "execution_count": 8,
   "metadata": {},
   "outputs": [],
   "source": [
    "cap = cv2.VideoCapture(1)\n",
    "\n",
    "boundaries = [\n",
    "        ([0, to255(30,100), to255(50,100)], [to255(30,360), to255(100,100), to255(100,100)]),\n",
    "    \n",
    "        ([to255(0,360), to255(35,100), to255(20,100)], [to255(30,360), to255(100,100), to255(100,100)]),  #ORANGE\n",
    "    \n",
    "        ([to255(80,360), to255(10,100), to255(65,100)], [to255(140,360), to255(100,100), to255(100,100)]),\n",
    "        ([to255(40,360), to255(0,100), to255(75,100)], [to255(65,360), to255(60,100), to255(100,100)])]\n",
    "\n",
    "lower = np.array(boundaries[1][0], dtype = \"uint8\")\n",
    "upper = np.array(boundaries[1][1], dtype = \"uint8\")\n",
    "\n",
    "while True:\n",
    "\n",
    "    ret, img = cap.read()\n",
    "    #img = cv2.imread(\"C:/Users/jprr2/Videos/Logitech/LogiCapture/4_colors.jpg\")\n",
    "    #rgb_img = cv2.cvtColor(img, cv2.COLOR_BGR2RGB)\n",
    "    if ret: \n",
    "        hsv_img = cv2.cvtColor(img, cv2.COLOR_BGR2HSV)\n",
    "\n",
    "        mask = cv2.inRange(hsv_img, lower, upper)\n",
    "        result = cv2.bitwise_and(img, img, mask = mask)\n",
    "\n",
    "        k = cv2.waitKey(1)\n",
    "        if k == 27:\n",
    "            break\n",
    "\n",
    "        cv2.imshow(\"ORANGE\", result)\n",
    "        \n",
    "cap.release()\n",
    "cv2.destroyAllWindows()\n",
    "\n",
    "#display(rgb_img)"
   ]
  },
  {
   "cell_type": "code",
   "execution_count": null,
   "metadata": {},
   "outputs": [],
   "source": []
  }
 ],
 "metadata": {
  "kernelspec": {
   "display_name": "Python 3",
   "language": "python",
   "name": "python3"
  },
  "language_info": {
   "codemirror_mode": {
    "name": "ipython",
    "version": 3
   },
   "file_extension": ".py",
   "mimetype": "text/x-python",
   "name": "python",
   "nbconvert_exporter": "python",
   "pygments_lexer": "ipython3",
   "version": "3.6.6"
  }
 },
 "nbformat": 4,
 "nbformat_minor": 2
}
