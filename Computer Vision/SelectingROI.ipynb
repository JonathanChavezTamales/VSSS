{
 "cells": [
  {
   "cell_type": "code",
   "execution_count": 1,
   "metadata": {},
   "outputs": [],
   "source": [
    "import cv2\n",
    "import numpy as np\n",
    "import matplotlib.pyplot as plt\n",
    "%matplotlib inline"
   ]
  },
  {
   "cell_type": "code",
   "execution_count": 3,
   "metadata": {},
   "outputs": [],
   "source": [
    "tracker1 = cv2.TrackerTLD_create()\n",
    "tracker2 = cv2.TrackerTLD_create()\n",
    "\n",
    "cap = cv2.VideoCapture(1)\n",
    "\n",
    "ret, frame = cap.read()\n",
    "\n",
    "roi1 = cv2.selectROI(frame, False)\n",
    "roi2 = cv2.selectROI(frame, False)\n",
    "\n",
    "ret = tracker1.init(frame, roi1)\n",
    "ret = tracker2.init(frame, roi2)\n",
    "\n",
    "while True:\n",
    "    \n",
    "    ret, frame = cap.read()\n",
    "    \n",
    "    success1, roi1 = tracker1.update(frame)\n",
    "    success2, roi2 = tracker2.update(frame)\n",
    "    \n",
    "    #roi variable is a tuple of 4 floats\n",
    "    #We nee each value and we need them as integers\n",
    "    (x1,y1,w1,h1) = tuple(map(int,roi1))\n",
    "    (x2,y2,w2,h2) = tuple(map(int,roi2))\n",
    "    \n",
    "    #Draw rectangle as tracker moves\n",
    "    if success1:\n",
    "        pt1 = (x1,y1)\n",
    "        pt2 = (x1+w1, y1+h1)\n",
    "        cv2.rectangle(frame, pt1, pt2, 255, 3)\n",
    "    else:\n",
    "        #Tracking failure\n",
    "        cv2.putText(frame, text = \"Failure to detect tracking ROI1!!\", org = (100,200), fontFace = cv2.FONT_HERSHEY_SIMPLEX, fontScale = 1, color = (0,0,255), thickness = 3)\n",
    "        \n",
    "    if success2:\n",
    "        pt1 = (x2,y2)\n",
    "        pt2 = (x2+w2, y2+h2)\n",
    "        cv2.rectangle(frame, pt1, pt2, 255, 3)\n",
    "    else:\n",
    "        #Tracking failure\n",
    "        cv2.putText(frame, text = \"Failure to detect tracking ROI2!!\", org = (200,200), fontFace = cv2.FONT_HERSHEY_SIMPLEX, fontScale = 1, color = (0,255,0), thickness = 3)\n",
    "        \n",
    "    \n",
    "    cv2.imshow(\"Frame\", frame)\n",
    "    \n",
    "    k = cv2.waitKey(1)\n",
    "    if k == 27:\n",
    "        break\n",
    "        \n",
    "cap.release()\n",
    "cv2.destroyAllWindows()"
   ]
  },
  {
   "cell_type": "code",
   "execution_count": null,
   "metadata": {},
   "outputs": [],
   "source": []
  }
 ],
 "metadata": {
  "kernelspec": {
   "display_name": "Python 3",
   "language": "python",
   "name": "python3"
  },
  "language_info": {
   "codemirror_mode": {
    "name": "ipython",
    "version": 3
   },
   "file_extension": ".py",
   "mimetype": "text/x-python",
   "name": "python",
   "nbconvert_exporter": "python",
   "pygments_lexer": "ipython3",
   "version": "3.6.6"
  }
 },
 "nbformat": 4,
 "nbformat_minor": 2
}
