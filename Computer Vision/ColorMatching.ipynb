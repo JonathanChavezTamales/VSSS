{
 "cells": [
  {
   "cell_type": "code",
   "execution_count": 1,
   "metadata": {},
   "outputs": [],
   "source": [
    "import cv2\n",
    "import numpy as np\n",
    "import matplotlib.pyplot as plt\n",
    "%matplotlib inline"
   ]
  },
  {
   "cell_type": "code",
   "execution_count": 2,
   "metadata": {},
   "outputs": [],
   "source": [
    "def display(img, cmap = None):\n",
    "    fig = plt.figure(figsize = (12,10))\n",
    "    ax = fig.add_subplot(111)\n",
    "    ax.imshow(img, cmap)\n",
    "\n",
    "def to255(num, val):\n",
    "    x = (num*255)//val\n",
    "    return x"
   ]
  },
  {
   "cell_type": "code",
   "execution_count": 10,
   "metadata": {},
   "outputs": [],
   "source": [
    "# cancha = cv2.imread('C:/Users/jprr2/Videos/Logitech/LogiCapture/cancha_real5.jpg')\n",
    "# cancha = cancha[:, 190:1050, :]\n",
    "# rgb_img = cv2.cvtColor(cancha, cv2.COLOR_BGR2RGB)\n",
    "# hsv_img = cv2.cvtColor(cancha, cv2.COLOR_BGR2HSV)\n",
    "\n",
    "cap = cv2.VideoCapture(0)\n",
    "\n",
    "kernel = np.ones(shape = (4,4), dtype = np.uint8)\n",
    "\n",
    "boundaries = [\n",
    "        ([to255(20,360), to255(40,100), to255(60,100)], [to255(65,360), to255(100,100), to255(100,100)]),     #AMARILLO\n",
    "        ([to255(130,360), to255(50,100), to255(40,100)], [to255(160,360), to255(100,100), to255(100,100)]),   #AZUL\n",
    "        ([to255(10,360), to255(50,100), to255(55,100)], [to255(35,360), to255(98,100), to255(98,100)]),       #NARANJA\n",
    "        ([to255(0,360), to255(60,100), to255(40,100)], [to255(10,360), to255(100,100), to255(100,100)]),       #ROJO\n",
    "        ([to255(60,360), to255(30,100), to255(10,100)], [to255(120,360), to255(100,100), to255(100,100)]),    #VERDE\n",
    "        ([to255(180,360), to255(0,100), to255(0,100)], [to255(240,360), to255(70,100), to255(70,100)]),       #MORADO\n",
    "        ([to255(200,360), to255(20,100), to255(75,100)], [to255(360,360), to255(100,100), to255(100,100)]),   #ROSA\n",
    "        ]\n",
    "\n",
    "lower = np.array(boundaries[1][0], dtype = \"uint8\")\n",
    "upper = np.array(boundaries[1][1], dtype = \"uint8\")\n",
    "\n",
    "while True:\n",
    "    \n",
    "    ret, frame = cap.read()\n",
    "    rgb_img = cv2.cvtColor(frame, cv2.COLOR_BGR2RGB)\n",
    "    hsv_img = cv2.cvtColor(frame, cv2.COLOR_BGR2HSV)\n",
    "\n",
    "    mask = cv2.inRange(hsv_img, lower, upper)\n",
    "    result = cv2.bitwise_and(rgb_img, rgb_img, mask = mask)\n",
    "    \n",
    "    k = cv2.waitKey(1)\n",
    "    \n",
    "    if k == 27:\n",
    "        break\n",
    "        \n",
    "    cv2.imshow(\"frame\", result)\n",
    "# gray = cv2.cvtColor(result, cv2.COLOR_BGR2GRAY)\n",
    "\n",
    "# ret, thresh = cv2.threshold(gray, 25, 255, cv2.THRESH_BINARY)\n",
    "\n",
    "# eroded = cv2.erode(thresh, kernel, iterations = 1)\n",
    "# dilated = cv2.dilate(eroded, kernel, iterations = 2)\n",
    "\n",
    "# image, contours, hierarchy = cv2.findContours(dilated, cv2.RETR_CCOMP, cv2.CHAIN_APPROX_SIMPLE)\n",
    "\n",
    "# if len(contours) != 0:\n",
    "#     for i in contours:\n",
    "        \n",
    "#         conv_hull = cv2.convexHull(i)\n",
    "\n",
    "#         top    = tuple(conv_hull[conv_hull[:,:,1].argmin()][0])\n",
    "#         bottom = tuple(conv_hull[conv_hull[:,:,1].argmax()][0])\n",
    "#         left   = tuple(conv_hull[conv_hull[:,:,0].argmin()][0])\n",
    "#         right  = tuple(conv_hull[conv_hull[:,:,0].argmax()][0])\n",
    "\n",
    "#         cX = (left[0] + right[0]) // 2\n",
    "#         cY = (top[1] + bottom[1]) // 2\n",
    "\n",
    "#         cv2.circle(rgb_img, (cX, cY), radius = 4, color = (0,255,0), thickness = -1)\n",
    "\n",
    "\n",
    "cap.release()\n",
    "cv2.destroyAllWindows()\n",
    "#display(rgb_img, \"gray\")"
   ]
  },
  {
   "cell_type": "code",
   "execution_count": null,
   "metadata": {},
   "outputs": [],
   "source": []
  },
  {
   "cell_type": "code",
   "execution_count": null,
   "metadata": {},
   "outputs": [],
   "source": []
  }
 ],
 "metadata": {
  "kernelspec": {
   "display_name": "Python 3",
   "language": "python",
   "name": "python3"
  },
  "language_info": {
   "codemirror_mode": {
    "name": "ipython",
    "version": 3
   },
   "file_extension": ".py",
   "mimetype": "text/x-python",
   "name": "python",
   "nbconvert_exporter": "python",
   "pygments_lexer": "ipython3",
   "version": "3.6.6"
  }
 },
 "nbformat": 4,
 "nbformat_minor": 2
}
